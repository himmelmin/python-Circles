{
  "nbformat": 4,
  "nbformat_minor": 0,
  "metadata": {
    "colab": {
      "provenance": [],
      "authorship_tag": "ABX9TyPNm+e+HAeHqTPOqYzlVP/6",
      "include_colab_link": true
    },
    "kernelspec": {
      "name": "python3",
      "display_name": "Python 3"
    },
    "language_info": {
      "name": "python"
    }
  },
  "cells": [
    {
      "cell_type": "markdown",
      "metadata": {
        "id": "view-in-github",
        "colab_type": "text"
      },
      "source": [
        "<a href=\"https://colab.research.google.com/github/himmelmin/python/blob/main/%EC%A3%BC%EC%86%8C%EB%A1%9D%EB%A7%8C%EB%93%A4%EA%B8%B0(%EC%84%B1%EB%AF%BC%EC%88%98).ipynb\" target=\"_parent\"><img src=\"https://colab.research.google.com/assets/colab-badge.svg\" alt=\"Open In Colab\"/></a>"
      ]
    },
    {
      "cell_type": "markdown",
      "source": [
        "#주소록만들기"
      ],
      "metadata": {
        "id": "-OUuCJLjkNgL"
      }
    },
    {
      "cell_type": "code",
      "execution_count": null,
      "metadata": {
        "id": "-p8OFhO3hXKg"
      },
      "outputs": [],
      "source": [
        "st = []"
      ]
    },
    {
      "cell_type": "code",
      "source": [
        "def add_list():\n",
        "  no = input('학번 : ')\n",
        "  name = input('이름 : ')\n",
        "  hp = input('전화번호 : ')\n",
        "  email = input('이메일 : ')\n",
        "  addr = input('주소 : ')\n",
        "  post = input('우편번호 : ')\n",
        "  alias = input('별명 : ')\n",
        "  birth = input('생일 : ')\n",
        "  \n",
        "  s1 = [no, name, hp, email, addr, post, alias, birth]\n",
        "  st.append(s1)"
      ],
      "metadata": {
        "id": "vDn9k_X_he46"
      },
      "execution_count": null,
      "outputs": []
    },
    {
      "cell_type": "markdown",
      "source": [
        "## 찾기"
      ],
      "metadata": {
        "id": "E3U6WM-hjJPj"
      }
    },
    {
      "cell_type": "code",
      "source": [
        "def query_no():\n",
        "  puery = input('찾을 사람의 학번을 입력하시오 ')\n",
        "\n",
        "  for i in range(len(st)):\n",
        "    if puery == st[i][0]:\n",
        "      print('%9s %10s %15s %20s %5s %5s %5s %5s' % (st[i][0], st[i][1], st[i][2], st[i][3], st[i][4], st[i][5], st[i][6], st[i][7]))"
      ],
      "metadata": {
        "id": "a8-RdsVXhj6D"
      },
      "execution_count": null,
      "outputs": []
    },
    {
      "cell_type": "code",
      "source": [
        "def query_name():\n",
        "  puery = input('찾을 사람의 이름을 입력하시오 ')\n",
        "\n",
        "  for i in range(len(st)):\n",
        "    if puery == st[i][1]:\n",
        "      print('%9s %10s %15s %20s %5s %5s %5s %5s' % (st[i][0], st[i][1], st[i][2], st[i][3], st[i][4], st[i][5], st[i][6], st[i][7]))"
      ],
      "metadata": {
        "id": "1_KRznjehgz3"
      },
      "execution_count": null,
      "outputs": []
    },
    {
      "cell_type": "code",
      "source": [
        "def query_hp():\n",
        "  puery = input('찾을 사람의 전화번호를 입력하시오 ')\n",
        "\n",
        "  for i in range(len(st)):\n",
        "    if puery == st[i][2]:\n",
        "      print('%9s %10s %15s %20s %5s %5s %5s %5s' % (st[i][0], st[i][1], st[i][2], st[i][3], st[i][4], st[i][5], st[i][6], st[i][7]))"
      ],
      "metadata": {
        "id": "1i6LGe-nhsLE"
      },
      "execution_count": null,
      "outputs": []
    },
    {
      "cell_type": "code",
      "source": [
        "def query_email():\n",
        "  puery = input('찾을 사람의 이메일을 입력하시오 ')\n",
        "\n",
        "  for i in range(len(st)):\n",
        "    if puery == st[i][3]:\n",
        "      print('%9s %10s %15s %20s %5s %5s %5s %5s' % (st[i][0], st[i][1], st[i][2], st[i][3], st[i][4], st[i][5], st[i][6], st[i][7]))"
      ],
      "metadata": {
        "id": "t91KjdJZhuiP"
      },
      "execution_count": null,
      "outputs": []
    },
    {
      "cell_type": "code",
      "source": [
        "def query_addr():\n",
        "  puery = input('찾을 사람의 주소를 입력하시오 ')\n",
        "\n",
        "  for i in range(len(st)):\n",
        "    if puery == st[i][4]:\n",
        "      print('%9s %10s %15s %20s %5s %5s %5s %5s' % (st[i][0], st[i][1], st[i][2], st[i][3], st[i][4], st[i][5], st[i][6], st[i][7]))"
      ],
      "metadata": {
        "id": "Y0wU88gmhwTP"
      },
      "execution_count": null,
      "outputs": []
    },
    {
      "cell_type": "code",
      "source": [
        "def query_post():\n",
        "  puery = input('찾을 사람의 우편번호를 입력하시오 ')\n",
        "\n",
        "  for i in range(len(st)):\n",
        "    if puery == st[i][5]:\n",
        "      print('%9s %10s %15s %20s %5s %5s %5s %5s' % (st[i][0], st[i][1], st[i][2], st[i][3], st[i][4], st[i][5], st[i][6], st[i][7]))"
      ],
      "metadata": {
        "id": "YuUJU1z2hxyZ"
      },
      "execution_count": null,
      "outputs": []
    },
    {
      "cell_type": "code",
      "source": [
        "def query_alias():\n",
        "  puery = input('찾을 사람의 별명을 입력하시오 ')\n",
        "\n",
        "  for i in range(len(st)):\n",
        "    if puery == st[i][6]:\n",
        "      print('%9s %10s %15s %20s %5s %5s %5s %5s' % (st[i][0], st[i][1], st[i][2], st[i][3], st[i][4], st[i][5], st[i][6], st[i][7]))"
      ],
      "metadata": {
        "id": "8Bc0DRHdhzY-"
      },
      "execution_count": null,
      "outputs": []
    },
    {
      "cell_type": "code",
      "source": [
        "def query_birth():\n",
        "  puery = input('찾을 사람의 생일을 입력하시오 ')\n",
        "\n",
        "  for i in range(len(st)):\n",
        "    if puery == st[i][7]:\n",
        "      print('%9s %10s %15s %20s %5s %5s %5s %5s' % (st[i][0], st[i][1], st[i][2], st[i][3], st[i][4], st[i][5], st[i][6], st[i][7]))"
      ],
      "metadata": {
        "id": "mMJwEl_fh01m"
      },
      "execution_count": null,
      "outputs": []
    },
    {
      "cell_type": "markdown",
      "source": [
        "## 입력하기"
      ],
      "metadata": {
        "id": "8XGvxK2HkHMI"
      }
    },
    {
      "cell_type": "code",
      "source": [
        "while True:\n",
        "  print('1. 연락처 등록')\n",
        "  print('2. 주소록')\n",
        "  print('3. 학번으로 검색')\n",
        "  print('4. 이름으로 검색')\n",
        "  print('5. 전화번호로 검색')\n",
        "  print('6. 이메일으로 검색')\n",
        "  print('7. 주소로 검색')\n",
        "  print('8. 우편번호로 검색')\n",
        "  print('9. 별명으로 검색')\n",
        "  print('10. 생일로 검색')\n",
        "  print('11. 종료')\n",
        "\n",
        "  sw = int(input('번호를 선택하세요 '))\n",
        "\n",
        "  if sw == 1:\n",
        "    add_list()\n",
        "  elif sw == 2:\n",
        "    print(st)\n",
        "  elif sw == 3:\n",
        "    query_no()\n",
        "  elif sw == 4:\n",
        "    query_name()\n",
        "  elif sw == 5:\n",
        "    query_hp()\n",
        "  elif sw == 6:\n",
        "    query_email()\n",
        "  elif sw == 7:\n",
        "    query_addr()\n",
        "  elif sw == 8:\n",
        "    query_post()      \n",
        "  elif sw == 9:\n",
        "    query_alias() \n",
        "  elif sw == 10:\n",
        "    query_birth()  \n",
        "  elif sw == 11:\n",
        "    break"
      ],
      "metadata": {
        "colab": {
          "base_uri": "https://localhost:8080/"
        },
        "id": "QFoiKQk5h2xx",
        "outputId": "0b0af770-4cd8-4815-8a68-db6b39d2ae47"
      },
      "execution_count": null,
      "outputs": [
        {
          "name": "stdout",
          "output_type": "stream",
          "text": [
            "1. 연락처 등록\n",
            "2. 주소록\n",
            "3. 학번으로 검색\n",
            "4. 이름으로 검색\n",
            "5. 전화번호로 검색\n",
            "6. 이메일으로 검색\n",
            "7. 주소로 검색\n",
            "8. 우편번호로 검색\n",
            "9. 별명으로 검색\n",
            "10. 생일로 검색\n",
            "11. 종료\n",
            "번호를 선택하세요 1\n",
            "학번 : 202292037\n",
            "이름 : 신지수\n",
            "전화번호 : 01084228436\n",
            "이메일 : srhiyrpr15@naver.com\n",
            "주소 : 삼천동\n",
            "우편번호 : 55092\n",
            "별명 : 행복지수\n",
            "생일 : 0911\n",
            "1. 연락처 등록\n",
            "2. 주소록\n",
            "3. 학번으로 검색\n",
            "4. 이름으로 검색\n",
            "5. 전화번호로 검색\n",
            "6. 이메일으로 검색\n",
            "7. 주소로 검색\n",
            "8. 우편번호로 검색\n",
            "9. 별명으로 검색\n",
            "10. 생일로 검색\n",
            "11. 종료\n",
            "번호를 선택하세요 1\n",
            "학번 : 202292031\n",
            "이름 : 전용준\n",
            "전화번호 : 01084409713\n",
            "이메일 : yongjun2950@naver.com\n",
            "주소 : 서신동\n",
            "우편번호 : 53941\n",
            "별명 : 빠끌이용준\n",
            "생일 : 0421\n",
            "1. 연락처 등록\n",
            "2. 주소록\n",
            "3. 학번으로 검색\n",
            "4. 이름으로 검색\n",
            "5. 전화번호로 검색\n",
            "6. 이메일으로 검색\n",
            "7. 주소로 검색\n",
            "8. 우편번호로 검색\n",
            "9. 별명으로 검색\n",
            "10. 생일로 검색\n",
            "11. 종료\n",
            "번호를 선택하세요 11\n"
          ]
        }
      ]
    }
  ]
}